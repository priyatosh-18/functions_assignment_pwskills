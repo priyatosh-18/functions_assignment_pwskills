{
 "cells": [
  {
   "cell_type": "markdown",
   "id": "9fd4e04f",
   "metadata": {},
   "source": [
    "# Functions Assignment\n",
    "# theory questions"
   ]
  },
  {
   "cell_type": "markdown",
   "id": "08cd1cac",
   "metadata": {},
   "source": [
    "1. What is the difference between a function and a method in Python?\n",
    " - The core difference between a function and a method in Python lies in how they are defined and called, which relates to whether they are associated with an object or a class.\n",
    " - A function is a block of organized, reusable code that is used to perform a single, related action.\n",
    "  a. Standalone: It exists independently of any object or class.\n",
    "  b. Example: Python's built-in functions like len(), print(), or a user-defined function."
   ]
  },
  {
   "cell_type": "code",
   "execution_count": 1,
   "id": "f7f66bd2",
   "metadata": {},
   "outputs": [
    {
     "name": "stdout",
     "output_type": "stream",
     "text": [
      "Hello, Alice!\n"
     ]
    }
   ],
   "source": [
    "# User-defined function\n",
    "def greet(name):\n",
    "    return f\"Hello, {name}!\"\n",
    "\n",
    "# Called directly\n",
    "print(greet(\"Alice\"))"
   ]
  },
  {
   "cell_type": "markdown",
   "id": "62c464be",
   "metadata": {},
   "source": [
    "- A method is a function that belongs to a class. It is a function that operates on the data contained within a class (an object).\n",
    "  a. Associated with an Object: It can only be called on an instance (object) of that class.\n",
    "  b. Implicit First Argument (self): The method automatically receives the instance it was called on as its first argument, conventionally named self. This allows the method to access the object's attributes and other methods.\n",
    "  c. Example: The .append() method for a list object."
   ]
  },
  {
   "cell_type": "code",
   "execution_count": 2,
   "id": "eeb5b82e",
   "metadata": {},
   "outputs": [
    {
     "name": "stdout",
     "output_type": "stream",
     "text": [
      "Buddy is walking.\n"
     ]
    }
   ],
   "source": [
    "class Dog:\n",
    "    def __init__(self, name):\n",
    "        # name is an attribute of the object\n",
    "        self.name = name\n",
    "    \n",
    "    # walk is a method of the Dog class\n",
    "    def walk(self): \n",
    "        # The method uses the object's attribute (self.name)\n",
    "        print(f\"{self.name} is walking.\")\n",
    "\n",
    "my_dog = Dog(\"Buddy\")\n",
    "\n",
    "# Called on the object using dot notation\n",
    "my_dog.walk()"
   ]
  },
  {
   "cell_type": "markdown",
   "id": "018c989e",
   "metadata": {},
   "source": [
    "2. Explain the concept of function arguments and parameters in Python.\n",
    " - Parameters are the placeholders or variables listed inside the parentheses when you define a function."
   ]
  },
  {
   "cell_type": "code",
   "execution_count": 4,
   "id": "ea903ed2",
   "metadata": {},
   "outputs": [],
   "source": [
    "# 'a' and 'b' are the PARAMETERS\n",
    "def add_numbers(a, b):\n",
    "    result = a + b\n",
    "    return result"
   ]
  },
  {
   "cell_type": "markdown",
   "id": "fbd0c1cc",
   "metadata": {},
   "source": [
    "Arguments are the actual values passed to the function when you call or execute it."
   ]
  },
  {
   "cell_type": "code",
   "execution_count": 5,
   "id": "2372a397",
   "metadata": {},
   "outputs": [],
   "source": [
    "# 5 and 10 are the ARGUMENTS\n",
    "sum_result = add_numbers(5, 10)"
   ]
  },
  {
   "cell_type": "markdown",
   "id": "b8d21f94",
   "metadata": {},
   "source": [
    "3. What are the different ways to define and call a function in Python?\n",
    " - Ways to define a function\n",
    " 1. Standard Function (def)\n",
    "    This is the most common and conventional way to define a function using the def keyword."
   ]
  },
  {
   "cell_type": "code",
   "execution_count": 6,
   "id": "b98a1956",
   "metadata": {},
   "outputs": [],
   "source": [
    "def multiply(a, b):\n",
    "    return a * b"
   ]
  },
  {
   "cell_type": "markdown",
   "id": "570618f7",
   "metadata": {},
   "source": [
    "2. Lambda Function (Anonymous Function)\n",
    "A lambda function is a small, inline, and anonymous function defined using the lambda keyword. It can take any number of arguments but can only have one single expression."
   ]
  },
  {
   "cell_type": "code",
   "execution_count": 7,
   "id": "c8a32f37",
   "metadata": {},
   "outputs": [],
   "source": [
    "# Definition\n",
    "square = lambda x: x * x\n",
    "\n",
    "# Equivalent to\n",
    "# def square(x):\n",
    "#     return x * x"
   ]
  },
  {
   "cell_type": "markdown",
   "id": "c1e3ce47",
   "metadata": {},
   "source": [
    "3. Generator Function\n",
    "A generator is a function that returns an iterator. It is defined using def, but uses the yield keyword instead of return. It pauses execution and saves its local state every time yield is encountered."
   ]
  },
  {
   "cell_type": "code",
   "execution_count": 8,
   "id": "6a5f31aa",
   "metadata": {},
   "outputs": [],
   "source": [
    "def countdown(n):\n",
    "    while n > 0:\n",
    "        yield n\n",
    "        n -= 1"
   ]
  },
  {
   "cell_type": "markdown",
   "id": "c4de382a",
   "metadata": {},
   "source": [
    "4. Decorator Function\n",
    "A decorator is a function that takes another function as an argument, adds some functionality, and returns a new function. They are typically used with the @ symbol."
   ]
  },
  {
   "cell_type": "code",
   "execution_count": 9,
   "id": "705da299",
   "metadata": {},
   "outputs": [],
   "source": [
    "def simple_decorator(func):\n",
    "    def wrapper():\n",
    "        print(\"Something before the function is called.\")\n",
    "        func()\n",
    "        print(\"Something after the function is called.\")\n",
    "    return wrapper\n",
    "\n",
    "@simple_decorator\n",
    "def say_hello():\n",
    "    print(\"Hello!\")"
   ]
  },
  {
   "cell_type": "markdown",
   "id": "51cdc8de",
   "metadata": {},
   "source": [
    "Ways to Call/Invoke a Function\n",
    "1. Standard Call (Positional Arguments)\n",
    "Arguments are passed based on their order or position in the function definition."
   ]
  },
  {
   "cell_type": "code",
   "execution_count": 10,
   "id": "914a4622",
   "metadata": {},
   "outputs": [
    {
     "name": "stdout",
     "output_type": "stream",
     "text": [
      "Charlie is 30 years old.\n"
     ]
    }
   ],
   "source": [
    "def describe(name, age):\n",
    "    print(f\"{name} is {age} years old.\")\n",
    "\n",
    "describe(\"Charlie\", 30) # \"Charlie\" maps to name, 30 maps to age"
   ]
  },
  {
   "cell_type": "markdown",
   "id": "aadab5d4",
   "metadata": {},
   "source": [
    "2. Keyword Arguments\n",
    "Arguments are passed with the parameter name, explicitly assigning the value. This improves readability and allows you to pass arguments in any order."
   ]
  },
  {
   "cell_type": "code",
   "execution_count": 11,
   "id": "7f1ceb71",
   "metadata": {},
   "outputs": [
    {
     "name": "stdout",
     "output_type": "stream",
     "text": [
      "Diana is 25 years old.\n"
     ]
    }
   ],
   "source": [
    "def describe(name, age):\n",
    "    print(f\"{name} is {age} years old.\")\n",
    "\n",
    "describe(age=25, name=\"Diana\") # Order is irrelevant"
   ]
  },
  {
   "cell_type": "markdown",
   "id": "9f69c341",
   "metadata": {},
   "source": [
    "3. Argument Unpacking (* and **)\n",
    "This method uses the asterisk operators to unpack elements from an iterable (list, tuple, dictionary) directly into a function's arguments."
   ]
  },
  {
   "cell_type": "code",
   "execution_count": 13,
   "id": "e1db8de6",
   "metadata": {},
   "outputs": [
    {
     "name": "stdout",
     "output_type": "stream",
     "text": [
      "21\n",
      "24\n"
     ]
    }
   ],
   "source": [
    "def multiply(a, b):\n",
    "    return a * b\n",
    "\n",
    "# Using * to unpack a tuple\n",
    "coordinates = (3, 7)\n",
    "print(multiply(*coordinates)) # Calls: multiply(3, 7)\n",
    "\n",
    "# Using ** to unpack a dictionary\n",
    "data = {'a': 6, 'b': 4}\n",
    "print(multiply(**data))      # Calls: multiply(a=6, b=4)"
   ]
  },
  {
   "cell_type": "markdown",
   "id": "0246b8c7",
   "metadata": {},
   "source": [
    "4. Generator Iteration (Calling a Generator)\n",
    "You don't call a generator function like a normal function. Instead, you call it once to get a generator object, and then iterate over that object to execute the code inside (until the next yield)."
   ]
  },
  {
   "cell_type": "code",
   "execution_count": 14,
   "id": "346e74f0",
   "metadata": {},
   "outputs": [
    {
     "name": "stdout",
     "output_type": "stream",
     "text": [
      "3\n",
      "2\n"
     ]
    }
   ],
   "source": [
    "g = countdown(3) # Get the generator object\n",
    "print(next(g))   # Calls next(g) -> 3\n",
    "print(next(g))   # Calls next(g) -> 2"
   ]
  },
  {
   "cell_type": "markdown",
   "id": "4ab51db4",
   "metadata": {},
   "source": [
    "5. Call through a Class Instance (Method Call)\n",
    "When a function is defined inside a class, it becomes a method and is called on an instance of that class."
   ]
  },
  {
   "cell_type": "code",
   "execution_count": 15,
   "id": "55f1fd01",
   "metadata": {},
   "outputs": [],
   "source": [
    "class Calculator:\n",
    "    def add(self, x, y):\n",
    "        return x + y\n",
    "\n",
    "calc = Calculator()\n",
    "# Called on the object\n",
    "result = calc.add(10, 5)"
   ]
  },
  {
   "cell_type": "markdown",
   "id": "2d99d9b4",
   "metadata": {},
   "source": [
    "4. What is the purpose of the `return` statement in a Python function?\n",
    " - The return statement in a Python function serves two main purposes: to exit the function and to send a value back to the place where the function was called."
   ]
  },
  {
   "cell_type": "code",
   "execution_count": 16,
   "id": "79dbb206",
   "metadata": {},
   "outputs": [
    {
     "name": "stdout",
     "output_type": "stream",
     "text": [
      "50\n"
     ]
    }
   ],
   "source": [
    "def calculate_area(length, width):\n",
    "    area = length * width\n",
    "    return area # Sends the value of 'area' back\n",
    "\n",
    "# The returned value (50) is assigned to the variable 'result'\n",
    "result = calculate_area(10, 5) \n",
    "print(result) # Output: 50"
   ]
  },
  {
   "cell_type": "markdown",
   "id": "37284b4d",
   "metadata": {},
   "source": [
    "5. What are iterators in Python and how do they differ from iterables?\n",
    " - Iterators and iterables are fundamental concepts in Python that relate to how data is accessed sequentially. They are distinct concepts, though an iterator is what allows an iterable to be iterated over.\n",
    " - An iterable is any Python object that can be looped over or whose elements can be traversed one at a time. It is a container for data."
   ]
  },
  {
   "cell_type": "code",
   "execution_count": 19,
   "id": "27cfba39",
   "metadata": {},
   "outputs": [
    {
     "name": "stdout",
     "output_type": "stream",
     "text": [
      "1\n",
      "2\n",
      "3\n"
     ]
    }
   ],
   "source": [
    "my_list = [1, 2, 3] # my_list is an ITERABLE\n",
    "for item in my_list:\n",
    "    print(item)"
   ]
  },
  {
   "cell_type": "markdown",
   "id": "b094a7ac",
   "metadata": {},
   "source": [
    "- An iterator is an object that represents a stream of data. It is an object that remembers its state (where it is in the sequence) and knows how to get the next value."
   ]
  },
  {
   "cell_type": "code",
   "execution_count": 20,
   "id": "e9be58c8",
   "metadata": {},
   "outputs": [
    {
     "name": "stdout",
     "output_type": "stream",
     "text": [
      "10\n",
      "20\n",
      "30\n"
     ]
    }
   ],
   "source": [
    "my_list = [10, 20, 30]\n",
    "\n",
    "# 1. Create the iterator from the iterable\n",
    "my_iterator = iter(my_list) # my_iterator is an ITERATOR\n",
    "\n",
    "# 2. Use the __next__() method (via the next() function) to get elements\n",
    "print(next(my_iterator)) # Output: 10\n",
    "print(next(my_iterator)) # Output: 20\n",
    "print(next(my_iterator)) # Output: 30\n",
    "\n",
    "# 3. Next call would raise StopIteration\n",
    "# print(next(my_iterator))"
   ]
  },
  {
   "cell_type": "markdown",
   "id": "b2a097dc",
   "metadata": {},
   "source": [
    "6. Explain the concept of generators in Python and how they are defined.\n",
    " - A generator is a special type of iterator that produces values lazily (one at a time) instead of computing all of them upfront and storing them in memory.\n",
    " - The Core Concept: Lazy Evaluation\n",
    " a. Memory Efficiency: Instead of building an entire list or other iterable in memory, a generator yields one item at a time. This is crucial when working with very large or infinite sequences of data, where storing everything would consume too much memory or simply be impossible.\n",
    "\n",
    " b. State Suspension: When a generator produces a value using the yield keyword, it suspends its execution. All local variables and the state of the execution are preserved. When the next value is requested, the generator resumes execution right where it left off.\n",
    "\n",
    " c. Iteration Protocol: Generators automatically satisfy the iterator protocol (they have the necessary __iter__() and __next__() methods), which means they can be used directly in for loops.\n",
    "\n",
    "- There are two primary ways to define a generator in Python:\n",
    "\n",
    "1. Generator Functions (Using yield)\n",
    "A generator function is defined just like a normal function, but instead of using the return statement to send back a final result, it uses the yield keyword to send back a value and temporarily pause."
   ]
  },
  {
   "cell_type": "code",
   "execution_count": 21,
   "id": "b5bf4cf6",
   "metadata": {},
   "outputs": [],
   "source": [
    "def count_up_to(max_val):\n",
    "    n = 1\n",
    "    while n <= max_val:\n",
    "        yield n  # Pauses execution and returns 'n'. State is saved.\n",
    "        n += 1"
   ]
  },
  {
   "cell_type": "markdown",
   "id": "f5f7c36d",
   "metadata": {},
   "source": [
    "2. Generator Expressions\n",
    "A generator expression is a concise way to define a simple generator on a single line, similar to a list comprehension, but using parentheses () instead of square brackets []."
   ]
  },
  {
   "cell_type": "code",
   "execution_count": 22,
   "id": "c27a56dd",
   "metadata": {},
   "outputs": [],
   "source": [
    "# List comprehension (creates a list in memory)\n",
    "my_list = [x * x for x in range(5)] \n",
    "\n",
    "# Generator expression (creates a generator object)\n",
    "my_generator = (x * x for x in range(5))"
   ]
  },
  {
   "cell_type": "markdown",
   "id": "b8925670",
   "metadata": {},
   "source": [
    "7. What are the advantages of using generators over regular functions?\n",
    " 1. Memory Efficiency (Lazy Evaluation) \n",
    " 2. Improved Performance (Start-up Time) \n",
    " 3. Infinite Sequences (Streams) \n",
    " 4. Cleaner Code for Pipelining"
   ]
  },
  {
   "cell_type": "markdown",
   "id": "371bd7e3",
   "metadata": {},
   "source": [
    "8. What is a lambda function in Python and when is it typically used?\n",
    " - A lambda function in Python is a small, anonymous function defined using the lambda keyword. It is also known as a one-line function.\n",
    " - general syntax is :"
   ]
  },
  {
   "cell_type": "code",
   "execution_count": 26,
   "id": "d2c3ff29",
   "metadata": {},
   "outputs": [
    {
     "name": "stdout",
     "output_type": "stream",
     "text": [
      "8\n"
     ]
    }
   ],
   "source": [
    "add = lambda a, b: a + b\n",
    "print(add(5, 3)) # Output: 8"
   ]
  },
  {
   "cell_type": "markdown",
   "id": "92e62755",
   "metadata": {},
   "source": [
    " - Lambda functions are generally used for short, simple operations where defining a full, named function would be verbose or unnecessary. Their primary use is as an argument to a higher-order function (a function that takes other functions as arguments)."
   ]
  },
  {
   "cell_type": "markdown",
   "id": "6b54e6d5",
   "metadata": {},
   "source": [
    "9. Explain the purpose and usage of the `map()` function in Python.\n",
    " - Purpose of map()\n",
    "   The primary purpose of map() is to transform data. If you have a collection of inputs and want to create a new collection where each element is the result of applying a transformation rule, map() is the ideal tool.\n",
    " - Usage and Examples\n",
    "1. Single Iterable\n",
    "   Here, map() takes one function and one iterable. The function is called with one argument for each item in the iterable."
   ]
  },
  {
   "cell_type": "code",
   "execution_count": 27,
   "id": "ced7d9b2",
   "metadata": {},
   "outputs": [
    {
     "name": "stdout",
     "output_type": "stream",
     "text": [
      "[1, 4, 9, 16]\n"
     ]
    }
   ],
   "source": [
    "def square(x):\n",
    "    return x * x\n",
    "\n",
    "numbers = [1, 2, 3, 4]\n",
    "\n",
    "# Apply 'square' to every item in 'numbers'\n",
    "squared_map = map(square, numbers) \n",
    "\n",
    "# Convert the iterator to a list to see the result\n",
    "result = list(squared_map) \n",
    "\n",
    "print(result) # Output: [1, 4, 9, 16]"
   ]
  },
  {
   "cell_type": "markdown",
   "id": "d16d35fc",
   "metadata": {},
   "source": [
    "2. Using with Lambda Functions\n",
    "map() is frequently combined with lambda functions when the transformation is simple, making the code even more compact."
   ]
  },
  {
   "cell_type": "code",
   "execution_count": 28,
   "id": "32b70d45",
   "metadata": {},
   "outputs": [
    {
     "name": "stdout",
     "output_type": "stream",
     "text": [
      "['ALICE', 'BOB', 'CHARLIE']\n"
     ]
    }
   ],
   "source": [
    "names = [\"alice\", \"bob\", \"charlie\"]\n",
    "\n",
    "# Convert all names to uppercase using a lambda\n",
    "uppercase_names = list(map(lambda name: name.upper(), names))\n",
    "\n",
    "print(uppercase_names) # Output: ['ALICE', 'BOB', 'CHARLIE']"
   ]
  },
  {
   "cell_type": "markdown",
   "id": "c51c5644",
   "metadata": {},
   "source": [
    "10. What is the difference between `map()`, `reduce()`, and `filter()` functions in Python?\n",
    " - Map: Transformation (One-to-One) 🗺️\n",
    "   The map() function applies a transformation function to every item in an iterable.\n",
    "\n",
    " - Purpose: To produce a new iterable where each element is the result of applying the function to the corresponding element of the original iterable.\n",
    "\n",
    " - Structure: It is a one-to-one relationship: for every input element, there is exactly one output element.\n",
    "\n",
    " - Result: A map object (an iterator) of the transformed elements.\n",
    "\n",
    " - Example: Converting a list of numbers into a list of their squares."
   ]
  },
  {
   "cell_type": "code",
   "execution_count": 30,
   "id": "dfc06a67",
   "metadata": {},
   "outputs": [],
   "source": [
    "numbers = [1, 2, 3]\n",
    "# Transformation: x*x\n",
    "squared = list(map(lambda x: x * x, numbers))\n",
    "# Result: [1, 4, 9]"
   ]
  },
  {
   "cell_type": "markdown",
   "id": "7bbbec37",
   "metadata": {},
   "source": [
    " - Filter: Selection (Many-to-Fewer) 🧺\n",
    "   The filter() function constructs an iterator from elements of an iterable for which a given predicate function (a function that returns True or False) returns True.\n",
    "\n",
    " - Purpose: To select a subset of elements from an iterable based on a condition.\n",
    "\n",
    " - Structure: It is a many-to-fewer relationship: the number of output elements is less than or equal to the number of input elements.\n",
    "\n",
    " - Result: A filter object (an iterator) containing only the elements that satisfy the condition.\n",
    "\n",
    " - Example: Selecting only the even numbers from a list."
   ]
  },
  {
   "cell_type": "code",
   "execution_count": 31,
   "id": "94edeb86",
   "metadata": {},
   "outputs": [],
   "source": [
    "numbers = [1, 2, 3, 4, 5]\n",
    "# Condition: x % 2 == 0 (returns True for evens)\n",
    "evens = list(filter(lambda x: x % 2 == 0, numbers))\n",
    "# Result: [2, 4]"
   ]
  },
  {
   "cell_type": "markdown",
   "id": "478d4c7f",
   "metadata": {},
   "source": [
    " - reduce() function applies a two-argument function cumulatively to the items of an iterable, reducing the iterable to a single cumulative value.\n",
    "\n",
    " - Note: reduce() is not a built-in function; it must be imported from the functools module.\n",
    "\n",
    " - Purpose: To aggregate or combine all elements of an iterable into a single result.\n",
    "\n",
    " - Structure: It is a many-to-one relationship: it takes many inputs and produces a single output.\n",
    "\n",
    " - Process: It applies the function to the first two items, then to the result and the next item, and so on.\n",
    "\n",
    " - Result: A single, final value.\n",
    "\n",
    " - Example: Calculating the product of all numbers in a list."
   ]
  },
  {
   "cell_type": "code",
   "execution_count": 40,
   "id": "c7a84723",
   "metadata": {},
   "outputs": [],
   "source": [
    "from functools import reduce\n",
    "\n",
    "numbers = [1, 2, 3, 4]\n",
    "# Cumulative operation: x * y\n",
    "product = reduce(lambda x, y: x * y, numbers)\n",
    "# Process: (((1 * 2) * 3) * 4)\n",
    "# Result: 24"
   ]
  },
  {
   "cell_type": "markdown",
   "id": "7078daf8",
   "metadata": {},
   "source": [
    "11. Using pen & Paper write the internal mechanism for sum operation using  reduce function on this given list:[47,11,42,13]; "
   ]
  },
  {
   "cell_type": "markdown",
   "id": "c43ed227",
   "metadata": {},
   "source": [
    "![alt text](IMG_20251002_183134.jpg)"
   ]
  },
  {
   "cell_type": "markdown",
   "id": "976f7bf6",
   "metadata": {},
   "source": [
    "![alt text](IMG_20251002_183204.jpg)"
   ]
  },
  {
   "cell_type": "markdown",
   "id": "7e380215",
   "metadata": {},
   "source": [
    "# practical questions"
   ]
  },
  {
   "cell_type": "markdown",
   "id": "42da0d6e",
   "metadata": {},
   "source": [
    "1. Write a Python function that takes a list of numbers as input and returns the sum of all even numbers in the list."
   ]
  },
  {
   "cell_type": "code",
   "execution_count": 44,
   "id": "698a2543",
   "metadata": {},
   "outputs": [
    {
     "name": "stdout",
     "output_type": "stream",
     "text": [
      "List 1: [1, 2, 3, 4, 5, 6, 7, 8, 9, 10]\n",
      "Sum of even numbers in List 1: 30\n",
      "--------------------\n",
      "List 2 (Only odd numbers): [15, 21, 33, 45, 57]\n",
      "Sum of even numbers in List 2: 0\n",
      "--------------------\n",
      "List 3 (Empty): []\n",
      "Sum of even numbers in List 3: 0\n",
      "--------------------\n",
      "List 4: [20, 32, 100, 1]\n",
      "Sum of even numbers in List 4: 152\n"
     ]
    }
   ],
   "source": [
    "def sum_even_numbers(number_list):\n",
    "\n",
    "    even_sum = 0\n",
    "    \n",
    "    for number in number_list:\n",
    "        if number % 2 == 0:\n",
    "            even_sum += number            \n",
    "    return even_sum\n",
    "\n",
    "data1 = [1, 2, 3, 4, 5, 6, 7, 8, 9, 10]\n",
    "data2 = [15, 21, 33, 45, 57]\n",
    "data3 = []\n",
    "data4 = [20, 32, 100, 1]\n",
    "\n",
    "print(f\"List 1: {data1}\")\n",
    "print(f\"Sum of even numbers in List 1: {sum_even_numbers(data1)}\")\n",
    "print(\"-\" * 20)\n",
    "\n",
    "print(f\"List 2 (Only odd numbers): {data2}\")\n",
    "print(f\"Sum of even numbers in List 2: {sum_even_numbers(data2)}\")\n",
    "print(\"-\" * 20)\n",
    "\n",
    "print(f\"List 3 (Empty): {data3}\")\n",
    "print(f\"Sum of even numbers in List 3: {sum_even_numbers(data3)}\")\n",
    "print(\"-\" * 20)\n",
    "\n",
    "print(f\"List 4: {data4}\")\n",
    "print(f\"Sum of even numbers in List 4: {sum_even_numbers(data4)}\")"
   ]
  },
  {
   "cell_type": "markdown",
   "id": "826a4fb4",
   "metadata": {},
   "source": [
    "2. Create a Python function that accepts a string and returns the reverse of that string."
   ]
  },
  {
   "cell_type": "code",
   "execution_count": 43,
   "id": "2c40ea97",
   "metadata": {},
   "outputs": [
    {
     "name": "stdout",
     "output_type": "stream",
     "text": [
      "Original String: 'Python Functions'\n",
      "Reversed String: 'snoitcnuF nohtyP'\n",
      "------------------------------\n",
      "Original String: 'madam'\n",
      "Reversed String: 'madam'\n",
      "------------------------------\n",
      "Original String: '12345'\n",
      "Reversed String: '54321'\n"
     ]
    }
   ],
   "source": [
    "def reverse_string(input_string):\n",
    "\n",
    "    return input_string[::-1]\n",
    "\n",
    "original_1 = \"Python Functions\"\n",
    "reversed_1 = reverse_string(original_1)\n",
    "print(f\"Original String: '{original_1}'\")\n",
    "print(f\"Reversed String: '{reversed_1}'\")\n",
    "\n",
    "print(\"-\" * 30)\n",
    "\n",
    "original_2 = \"madam\" \n",
    "reversed_2 = reverse_string(original_2)\n",
    "print(f\"Original String: '{original_2}'\")\n",
    "print(f\"Reversed String: '{reversed_2}'\")\n",
    "\n",
    "print(\"-\" * 30)\n",
    "\n",
    "original_3 = \"12345\"\n",
    "reversed_3 = reverse_string(original_3)\n",
    "print(f\"Original String: '{original_3}'\")\n",
    "print(f\"Reversed String: '{reversed_3}'\")\n"
   ]
  },
  {
   "cell_type": "markdown",
   "id": "299581cb",
   "metadata": {},
   "source": [
    "3. Implement a Python function that takes a list of integers and returns a new list containing the squares of each number."
   ]
  },
  {
   "cell_type": "code",
   "execution_count": 45,
   "id": "4e3fc3cd",
   "metadata": {},
   "outputs": [
    {
     "name": "stdout",
     "output_type": "stream",
     "text": [
      "Original List A: [1, 2, 3, 4, 5]\n",
      "Squared List A: [1, 4, 9, 16, 25]\n",
      "------------------------------\n",
      "Original List B: [-3, 0, 10, -1]\n",
      "Squared List B: [9, 0, 100, 1]\n",
      "------------------------------\n",
      "Original List C (Empty): []\n",
      "Squared List C: []\n"
     ]
    }
   ],
   "source": [
    "def square_numbers(int_list):\n",
    "\n",
    "    return [number ** 2 for number in int_list]\n",
    "\n",
    "data_a = [1, 2, 3, 4, 5]\n",
    "data_b = [-3, 0, 10, -1]\n",
    "data_c = []\n",
    "\n",
    "print(f\"Original List A: {data_a}\")\n",
    "print(f\"Squared List A: {square_numbers(data_a)}\")\n",
    "print(\"-\" * 30)\n",
    "\n",
    "print(f\"Original List B: {data_b}\")\n",
    "print(f\"Squared List B: {square_numbers(data_b)}\")\n",
    "print(\"-\" * 30)\n",
    "\n",
    "print(f\"Original List C (Empty): {data_c}\")\n",
    "print(f\"Squared List C: {square_numbers(data_c)}\")"
   ]
  },
  {
   "cell_type": "markdown",
   "id": "5ba76ae1",
   "metadata": {},
   "source": [
    "4. Write a Python function that checks if a given number is prime or not from 1 to 200."
   ]
  },
  {
   "cell_type": "code",
   "execution_count": 46,
   "id": "46b093e0",
   "metadata": {},
   "outputs": [
    {
     "name": "stdout",
     "output_type": "stream",
     "text": [
      "--- Primality Check (Numbers 1 to 200) ---\n",
      "\n",
      "--- Sample Checks ---\n",
      "Number   1: NOT Prime\n",
      "Number   2: PRIME\n",
      "Number   4: NOT Prime\n",
      "Number  13: PRIME\n",
      "Number  91: NOT Prime\n",
      "Number 101: PRIME\n",
      "Number 199: PRIME\n",
      "Number 200: NOT Prime\n",
      "\n",
      "--- All Prime Numbers between 1 and 200 ---\n",
      "[2, 3, 5, 7, 11, 13, 17, 19, 23, 29, 31, 37, 41, 43, 47, 53, 59, 61, 67, 71, 73, 79, 83, 89, 97, 101, 103, 107, 109, 113, 127, 131, 137, 139, 149, 151, 157, 163, 167, 173, 179, 181, 191, 193, 197, 199]\n",
      "\n",
      "Total prime numbers found: 46\n"
     ]
    }
   ],
   "source": [
    "import math\n",
    "\n",
    "def is_prime(number):\n",
    "\n",
    "    if number <= 1:\n",
    "        return False\n",
    "\n",
    "    if number == 2:\n",
    "        return True\n",
    "\n",
    "    if number % 2 == 0:\n",
    "        return False\n",
    "\n",
    "    max_divisor = int(math.sqrt(number))\n",
    "\n",
    "    for i in range(3, max_divisor + 1, 2):\n",
    "        if number % i == 0:\n",
    "            return False  \n",
    "\n",
    "    return True\n",
    "\n",
    "print(\"--- Primality Check (Numbers 1 to 200) ---\")\n",
    "\n",
    "sample_numbers = [1, 2, 4, 13, 91, 101, 199, 200]\n",
    "\n",
    "print(\"\\n--- Sample Checks ---\")\n",
    "for num in sample_numbers:\n",
    "    status = \"PRIME\" if is_prime(num) else \"NOT Prime\"\n",
    "    print(f\"Number {num:3}: {status}\")\n",
    "\n",
    "print(\"\\n--- All Prime Numbers between 1 and 200 ---\")\n",
    "prime_count = 0\n",
    "prime_list = []\n",
    "\n",
    "for num in range(1, 201):\n",
    "    if is_prime(num):\n",
    "        prime_list.append(num)\n",
    "        prime_count += 1\n",
    "\n",
    "print(prime_list)\n",
    "print(f\"\\nTotal prime numbers found: {prime_count}\")\n"
   ]
  },
  {
   "cell_type": "markdown",
   "id": "093f6b9a",
   "metadata": {},
   "source": [
    "5. Create an iterator class in Python that generates the Fibonacci sequence up to a specified number of terms."
   ]
  },
  {
   "cell_type": "code",
   "execution_count": 47,
   "id": "04296106",
   "metadata": {},
   "outputs": [
    {
     "name": "stdout",
     "output_type": "stream",
     "text": [
      "--- Generating Fibonacci Sequence (10 Terms) ---\n",
      "Using a 'for' loop:\n",
      "0 1 1 2 3 5 8 13 21 34 \n",
      "\n",
      "--- Demonstration of Manual Iteration (5 Terms) ---\n",
      "Term 1: 0\n",
      "Term 2: 1\n",
      "Term 3: 1\n",
      "Term 4: 2\n",
      "Term 5: 3\n",
      "\n",
      "StopIteration raised, sequence exhausted.\n"
     ]
    }
   ],
   "source": [
    "class FibonacciIterator:\n",
    "    def __init__(self, max_terms):\n",
    "     \n",
    "        if max_terms < 0:\n",
    "            raise ValueError(\"max_terms must be a non-negative integer.\")\n",
    "        self.max_terms = max_terms\n",
    "        self.current_term = 0  # Counter for the number of terms generated\n",
    "        self.a = 0             # The n-2 term in the sequence\n",
    "        self.b = 1             # The n-1 term in the sequence\n",
    "\n",
    "    def __iter__(self):\n",
    "        return self\n",
    "\n",
    "    def __next__(self):\n",
    "        if self.current_term >= self.max_terms:\n",
    "            raise StopIteration\n",
    "        \n",
    "        if self.current_term == 0:\n",
    "            self.current_term += 1\n",
    "            return 0\n",
    "        \n",
    "        if self.current_term == 1:\n",
    "            self.current_term += 1\n",
    "            return 1\n",
    "    \n",
    "        c = self.a + self.b\n",
    "        \n",
    "        self.a = self.b\n",
    "        self.b = c\n",
    "        self.current_term += 1\n",
    "        \n",
    "        return c\n",
    "\n",
    "print(\"--- Generating Fibonacci Sequence (10 Terms) ---\")\n",
    "fib_sequence = FibonacciIterator(max_terms=10)\n",
    "\n",
    "print(\"Using a 'for' loop:\")\n",
    "for num in fib_sequence:\n",
    "    print(num, end=' ') \n",
    "\n",
    "print(\"\\n\\n--- Demonstration of Manual Iteration (5 Terms) ---\")\n",
    "manual_fib = FibonacciIterator(max_terms=5)\n",
    "\n",
    "print(f\"Term 1: {next(manual_fib)}\")\n",
    "print(f\"Term 2: {next(manual_fib)}\")\n",
    "print(f\"Term 3: {next(manual_fib)}\")\n",
    "print(f\"Term 4: {next(manual_fib)}\")\n",
    "print(f\"Term 5: {next(manual_fib)}\")\n",
    "\n",
    "try:\n",
    "    next(manual_fib)\n",
    "except StopIteration:\n",
    "    print(\"\\nStopIteration raised, sequence exhausted.\")\n"
   ]
  },
  {
   "cell_type": "markdown",
   "id": "bdce9b91",
   "metadata": {},
   "source": [
    "6. Write a generator function in Python that yields the powers of 2 up to a given exponent."
   ]
  },
  {
   "cell_type": "code",
   "execution_count": 48,
   "id": "75c1704f",
   "metadata": {},
   "outputs": [
    {
     "name": "stdout",
     "output_type": "stream",
     "text": [
      "--- Powers of 2 up to exponent 5 ---\n",
      "Output using 'for' loop:\n",
      "1 2 4 8 16 32 \n",
      "\n",
      "Output using next():\n",
      "2^0: 1\n",
      "2^1: 2\n",
      "2^2: 4\n",
      "2^3: 8\n",
      "\n",
      "\n",
      "Sum of powers of 2 (2^0 through 2^10): 2047\n"
     ]
    }
   ],
   "source": [
    "def power_of_two_generator(max_exponent):\n",
    "    if max_exponent < 0:\n",
    "        raise ValueError(\"max_exponent must be a non-negative integer.\")\n",
    "\n",
    "    for i in range(max_exponent + 1):\n",
    "        yield 2 ** i\n",
    "\n",
    "max_e = 5\n",
    "print(f\"--- Powers of 2 up to exponent {max_e} ---\")\n",
    "powers_gen = power_of_two_generator(max_e)\n",
    "\n",
    "print(\"Output using 'for' loop:\")\n",
    "for power in powers_gen:\n",
    "    print(power, end=' ')\n",
    "print(\"\\n\")\n",
    "\n",
    "print(\"Output using next():\")\n",
    "lazy_gen = power_of_two_generator(8)\n",
    "\n",
    "print(f\"2^0: {next(lazy_gen)}\")\n",
    "print(f\"2^1: {next(lazy_gen)}\")\n",
    "print(f\"2^2: {next(lazy_gen)}\")\n",
    "print(f\"2^3: {next(lazy_gen)}\")\n",
    "\n",
    "print(\"\\n\")\n",
    "\n",
    "total_sum = sum(power_of_two_generator(10))\n",
    "print(f\"Sum of powers of 2 (2^0 through 2^10): {total_sum}\")"
   ]
  },
  {
   "cell_type": "markdown",
   "id": "b9d67d0d",
   "metadata": {},
   "source": [
    "7. Implement a generator function that reads a file line by line and yields each line as a string."
   ]
  },
  {
   "cell_type": "code",
   "execution_count": 49,
   "id": "a1622849",
   "metadata": {},
   "outputs": [
    {
     "name": "stdout",
     "output_type": "stream",
     "text": [
      "--- Created temporary file: 'temp_lines.txt' ---\n",
      "\n",
      "Reading file contents line by line:\n",
      "[1] First line of text.\n",
      "[2] Second line, showing generator efficiency.\n",
      "[3] Third and final line.\n",
      "\n",
      "--- File reading complete ---\n",
      "Generator is exhausted and raises StopIteration as expected.\n"
     ]
    }
   ],
   "source": [
    "import os\n",
    "\n",
    "def read_file_line_by_line(filepath):\n",
    "    \n",
    "    try:\n",
    "        with open(filepath, 'r') as file:\n",
    "            for line in file:\n",
    "                yield line\n",
    "    except FileNotFoundError:\n",
    "        raise FileNotFoundError(f\"Error: The file path '{filepath}' was not found.\")\n",
    "\n",
    "TEST_FILE_NAME = \"temp_lines.txt\"\n",
    "TEST_CONTENT = [\n",
    "    \"First line of text.\\n\",\n",
    "    \"Second line, showing generator efficiency.\\n\",\n",
    "    \"Third and final line.\"\n",
    "]\n",
    "\n",
    "try:\n",
    "    with open(TEST_FILE_NAME, 'w') as f:\n",
    "        f.writelines(TEST_CONTENT)\n",
    "    print(f\"--- Created temporary file: '{TEST_FILE_NAME}' ---\")\n",
    "\n",
    "    line_generator = read_file_line_by_line(TEST_FILE_NAME)\n",
    "\n",
    "    print(\"\\nReading file contents line by line:\")\n",
    "    for index, line in enumerate(line_generator, 1):\n",
    "        print(f\"[{index}] {line.strip()}\") \n",
    "        \n",
    "    print(\"\\n--- File reading complete ---\")\n",
    "    \n",
    "    try:\n",
    "        next(line_generator)\n",
    "    except StopIteration:\n",
    "        print(\"Generator is exhausted and raises StopIteration as expected.\")\n",
    "\n",
    "except Exception as e:\n",
    "    print(f\"\\nAn error occurred during demonstration: {e}\")\n",
    "\n",
    "finally:\n",
    "    if os.path.exists(TEST_FILE_NAME):\n",
    "        os.remove(TEST_FILE_NAME)"
   ]
  },
  {
   "cell_type": "markdown",
   "id": "6267e748",
   "metadata": {},
   "source": [
    "8.  Use a lambda function in Python to sort a list of tuples based on the second element of each tuple."
   ]
  },
  {
   "cell_type": "code",
   "execution_count": 50,
   "id": "ce9dc68a",
   "metadata": {},
   "outputs": [
    {
     "name": "stdout",
     "output_type": "stream",
     "text": [
      "--- Created temporary file: 'temp_lines.txt' ---\n",
      "\n",
      "Reading file contents line by line:\n",
      "[1] First line of text.\n",
      "[2] Second line, showing generator efficiency.\n",
      "[3] Third and final line.\n",
      "\n",
      "--- File reading complete ---\n",
      "Generator is exhausted and raises StopIteration as expected.\n"
     ]
    }
   ],
   "source": [
    "import os\n",
    "\n",
    "def read_file_line_by_line(filepath):\n",
    "    \n",
    "    try:\n",
    "        with open(filepath, 'r') as file:\n",
    "            for line in file:\n",
    "                yield line\n",
    "    except FileNotFoundError:\n",
    "        raise FileNotFoundError(f\"Error: The file path '{filepath}' was not found.\")\n",
    "\n",
    "TEST_FILE_NAME = \"temp_lines.txt\"\n",
    "TEST_CONTENT = [\n",
    "    \"First line of text.\\n\",\n",
    "    \"Second line, showing generator efficiency.\\n\",\n",
    "    \"Third and final line.\"\n",
    "]\n",
    "\n",
    "try:\n",
    "    with open(TEST_FILE_NAME, 'w') as f:\n",
    "        f.writelines(TEST_CONTENT)\n",
    "    print(f\"--- Created temporary file: '{TEST_FILE_NAME}' ---\")\n",
    "\n",
    "    line_generator = read_file_line_by_line(TEST_FILE_NAME)\n",
    "\n",
    "    print(\"\\nReading file contents line by line:\")\n",
    "    for index, line in enumerate(line_generator, 1):\n",
    "        print(f\"[{index}] {line.strip()}\") \n",
    "        \n",
    "    print(\"\\n--- File reading complete ---\")\n",
    "    \n",
    "    try:\n",
    "        next(line_generator)\n",
    "    except StopIteration:\n",
    "        print(\"Generator is exhausted and raises StopIteration as expected.\")\n",
    "\n",
    "except Exception as e:\n",
    "    print(f\"\\nAn error occurred during demonstration: {e}\")\n",
    "\n",
    "finally:\n",
    "    if os.path.exists(TEST_FILE_NAME):\n",
    "        os.remove(TEST_FILE_NAME)"
   ]
  },
  {
   "cell_type": "markdown",
   "id": "dae568fa",
   "metadata": {},
   "source": [
    "9. Write a Python program that uses `map()` to convert a list of temperatures from Celsius to Fahrenheit."
   ]
  },
  {
   "cell_type": "code",
   "execution_count": 51,
   "id": "fcc8dd27",
   "metadata": {},
   "outputs": [
    {
     "name": "stdout",
     "output_type": "stream",
     "text": [
      "Original Celsius Temperatures: [0, 10, 20, 30, 37, 100]\n",
      "Converted Fahrenheit Temperatures: [32.0, 50.0, 68.0, 86.0, 98.6, 212.0]\n",
      "\n",
      "--- Alternative using Lambda ---\n",
      "Converted Fahrenheit (Lambda): [32.0, 50.0, 68.0, 86.0, 98.6, 212.0]\n"
     ]
    }
   ],
   "source": [
    "celsius_temps = [0, 10, 20, 30, 37, 100]\n",
    "\n",
    "def convert_celsius_to_fahrenheit(celsius):\n",
    "    \"\"\"Converts a single Celsius temperature to Fahrenheit.\"\"\"\n",
    "    # F = (C * 1.8) + 32\n",
    "    return (celsius * 9/5) + 32\n",
    "\n",
    "fahrenheit_map = map(convert_celsius_to_fahrenheit, celsius_temps)\n",
    "\n",
    "fahrenheit_temps = list(fahrenheit_map)\n",
    "\n",
    "print(\"Original Celsius Temperatures:\", celsius_temps)\n",
    "print(\"Converted Fahrenheit Temperatures:\", fahrenheit_temps)\n",
    "\n",
    "print(\"\\n--- Alternative using Lambda ---\")\n",
    "\n",
    "fahrenheit_lambda = list(map(lambda c: (c * 9/5) + 32, celsius_temps))\n",
    "print(\"Converted Fahrenheit (Lambda):\", fahrenheit_lambda)"
   ]
  },
  {
   "cell_type": "markdown",
   "id": "0d809c56",
   "metadata": {},
   "source": [
    " 10. Create a Python program that uses `filter()` to remove all the vowels from a given string."
   ]
  },
  {
   "cell_type": "code",
   "execution_count": 52,
   "id": "959eed7c",
   "metadata": {},
   "outputs": [
    {
     "name": "stdout",
     "output_type": "stream",
     "text": [
      "Original String 1: Programming is Fun in Python\n",
      "Result 1 (Vowels Removed): Prgrmmng s Fn n Pythn\n",
      "\n",
      "Original String 2: AEIOUaeiou\n",
      "Result 2 (Vowels Removed): \n",
      "\n",
      "Original String 3: Rhythm\n",
      "Result 3 (Vowels Removed): Rhythm\n"
     ]
    }
   ],
   "source": [
    "def remove_vowels(input_string):\n",
    "   \n",
    "    VOWELS = {'a', 'e', 'i', 'o', 'u', 'A', 'E', 'I', 'O', 'U'}\n",
    "    \n",
    "    is_consonant = lambda char: char not in VOWELS\n",
    "    \n",
    "    filtered_chars_iterator = filter(is_consonant, input_string)\n",
    "    \n",
    "    result_string = \"\".join(filtered_chars_iterator)\n",
    "    \n",
    "    return result_string\n",
    "\n",
    "test_string_1 = \"Programming is Fun in Python\"\n",
    "test_string_2 = \"AEIOUaeiou\"\n",
    "test_string_3 = \"Rhythm\"\n",
    "\n",
    "print(f\"Original String 1: {test_string_1}\")\n",
    "result_1 = remove_vowels(test_string_1)\n",
    "print(f\"Result 1 (Vowels Removed): {result_1}\\n\")\n",
    "\n",
    "print(f\"Original String 2: {test_string_2}\")\n",
    "result_2 = remove_vowels(test_string_2)\n",
    "print(f\"Result 2 (Vowels Removed): {result_2}\\n\")\n",
    "\n",
    "print(f\"Original String 3: {test_string_3}\")\n",
    "result_3 = remove_vowels(test_string_3)\n",
    "print(f\"Result 3 (Vowels Removed): {result_3}\")\n"
   ]
  },
  {
   "cell_type": "markdown",
   "id": "89350231",
   "metadata": {},
   "source": [
    "11. Imagine an accounting routine used in a book shop. It works on a list with sublists, which look like this:\n",
    "\n",
    "![alt text](Capture.JPG)\n",
    "\n",
    "Write a Python program, which returns a list with 2-tuples. Each tuple consists of the order number and the product of the price per item and the quantity. The product should be increased by 10€ if the value of the order is smaller than 100,00 €."
   ]
  },
  {
   "cell_type": "code",
   "execution_count": 54,
   "id": "30fb53cb",
   "metadata": {},
   "outputs": [
    {
     "name": "stdout",
     "output_type": "stream",
     "text": [
      "--- Book Shop Accounting Report ---\n",
      "Order Number    Total Value (€)\n",
      "-------------------------\n",
      "34587           163.80    \n",
      "98762           284.40    \n",
      "77226           108.85    \n",
      "88112           84.97     \n",
      "\n",
      "\n",
      "Note: 10.00€ surcharge applied if order value was < 100.00€.\n"
     ]
    }
   ],
   "source": [
    "def calculate_order_totals(orders_data):\n",
    "   \n",
    "    final_totals = []\n",
    "    SURCHARGE = 10.00\n",
    "    THRESHOLD = 100.00\n",
    "\n",
    "    for order in orders_data:\n",
    "        order_number = order[0]\n",
    "        quantity = order[2]\n",
    "        price_per_item = order[3]\n",
    "        \n",
    "        base_value = price_per_item * quantity\n",
    "        \n",
    "        if base_value < THRESHOLD:\n",
    "            final_value = base_value + SURCHARGE\n",
    "        else:\n",
    "            final_value = base_value\n",
    "            \n",
    "        final_totals.append((order_number, round(final_value, 2)))\n",
    "        \n",
    "    return final_totals\n",
    "\n",
    "BOOK_ORDERS = [\n",
    "    [34587, 'Learning Python, Mark Lutz', 4, 40.95],\n",
    "    [98762, 'Programming Python, Mark Lutz', 5, 56.88],\n",
    "    [77226, 'Head First Python, Paul Barry', 3, 32.95],\n",
    "    [88112, 'Einfuehrung in Python3, Bernd Klein', 3, 24.99]\n",
    "]\n",
    "\n",
    "order_totals = calculate_order_totals(BOOK_ORDERS)\n",
    "\n",
    "print(\"--- Book Shop Accounting Report ---\")\n",
    "print(\"{:<15} {:<10}\".format(\"Order Number\", \"Total Value (€)\"))\n",
    "print(\"-\" * 25)\n",
    "\n",
    "for order_num, total in order_totals:\n",
    "    print(\"{:<15} {:<10.2f}\".format(order_num, total))\n",
    "\n",
    "print(\"\\n\")\n",
    "print(\"Note: 10.00€ surcharge applied if order value was < 100.00€.\")\n"
   ]
  },
  {
   "cell_type": "markdown",
   "id": "8b9fa184",
   "metadata": {},
   "source": [
    "12. Write a Python program using lambda and map."
   ]
  },
  {
   "cell_type": "code",
   "execution_count": 55,
   "id": "480fbab3",
   "metadata": {},
   "outputs": [
    {
     "name": "stdout",
     "output_type": "stream",
     "text": [
      "--- Book Shop Accounting Report (Using map/lambda) ---\n",
      "Order Number    Total Value (€)\n",
      "------------------------------\n",
      "34587           163.80    \n",
      "98762           284.40    \n",
      "77226           108.85    \n",
      "88112           84.97     \n",
      "\n",
      "Note: 10.00€ surcharge applied if order value was < 100.00€.\n"
     ]
    }
   ],
   "source": [
    "SURCHARGE = 10.00\n",
    "THRESHOLD = 100.00\n",
    "\n",
    "# Original Iterative Function (from Q11) \n",
    "\n",
    "def calculate_order_totals(orders_data):\n",
    "\n",
    "    final_totals = []\n",
    "\n",
    "    for order in orders_data:\n",
    "        order_number = order[0]\n",
    "        quantity = order[2]\n",
    "        price_per_item = order[3]       \n",
    "        base_value = price_per_item * quantity\n",
    "        \n",
    "        if base_value < THRESHOLD:\n",
    "            final_value = base_value + SURCHARGE\n",
    "        else:\n",
    "            final_value = base_value\n",
    "             \n",
    "        final_totals.append((order_number, round(final_value, 2)))\n",
    "        \n",
    "    return final_totals\n",
    "\n",
    "def calculate_order_totals_map_lambda(orders_data):\n",
    "\n",
    "    return list(map(\n",
    "        lambda order: (\n",
    "            order[0],  # Order Number\n",
    "            round(\n",
    "                order[2] * order[3] + SURCHARGE \n",
    "                if (order[2] * order[3]) < THRESHOLD \n",
    "                else order[2] * order[3], \n",
    "                2\n",
    "            )\n",
    "        ), \n",
    "        orders_data\n",
    "    ))\n",
    "\n",
    "BOOK_ORDERS = [\n",
    "    [34587, 'Learning Python, Mark Lutz', 4, 40.95],\n",
    "    [98762, 'Programming Python, Mark Lutz', 5, 56.88],\n",
    "    [77226, 'Head First Python, Paul Barry', 3, 32.95],\n",
    "    [88112, 'Einfuehrung in Python3, Bernd Klein', 3, 24.99]\n",
    "]\n",
    "\n",
    "order_totals = calculate_order_totals_map_lambda(BOOK_ORDERS)\n",
    "\n",
    "print(\"--- Book Shop Accounting Report (Using map/lambda) ---\")\n",
    "print(\"{:<15} {:<10}\".format(\"Order Number\", \"Total Value (€)\"))\n",
    "print(\"-\" * 30)\n",
    "\n",
    "for order_num, total in order_totals:\n",
    "    print(\"{:<15} {:<10.2f}\".format(order_num, total))\n",
    "\n",
    "print(\"\\nNote: 10.00€ surcharge applied if order value was < 100.00€.\")\n"
   ]
  }
 ],
 "metadata": {
  "kernelspec": {
   "display_name": "Python 3",
   "language": "python",
   "name": "python3"
  },
  "language_info": {
   "codemirror_mode": {
    "name": "ipython",
    "version": 3
   },
   "file_extension": ".py",
   "mimetype": "text/x-python",
   "name": "python",
   "nbconvert_exporter": "python",
   "pygments_lexer": "ipython3",
   "version": "3.13.7"
  }
 },
 "nbformat": 4,
 "nbformat_minor": 5
}
